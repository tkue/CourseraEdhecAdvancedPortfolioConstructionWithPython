{
 "cells": [
  {
   "cell_type": "markdown",
   "metadata": {},
   "source": [
    "# Naive Risk Budgeting Strategies between the PSP and GHP"
   ]
  },
  {
   "cell_type": "code",
   "execution_count": 1,
   "metadata": {},
   "outputs": [],
   "source": [
    "from sys import path \n",
    "path.append('../')\n",
    "import edhec_risk_kit as erk \n",
    "\n",
    "import pandas as pd \n",
    "import numpy as np \n",
    "\n",
    "import ipywidgets as widgets\n",
    "from IPython.display import display\n",
    "\n",
    "%load_ext autoreload \n",
    "%autoreload 2"
   ]
  },
  {
   "cell_type": "code",
   "execution_count": 2,
   "metadata": {},
   "outputs": [],
   "source": [
    "def bt_mix(r1, r2, allocator, **kwargs):\n",
    "    \"\"\"\n",
    "    Runs a back test (simulation) of allocating between a two sets of returns\n",
    "    r1 and r2 are T x N DataFrames or returns where T is the time step index and N is the number of scenarios.\n",
    "    allocator is a function that takes two sets of returns and allocator specific parameters, and produces\n",
    "    an allocation to the first portfolio (the rest of the money is invested in the GHP) as a T x 1 DataFrame\n",
    "    Returns a T x N DataFrame of the resulting N portfolio scenarios\n",
    "    \"\"\"\n",
    "    if not r1.shape == r2.shape:\n",
    "        raise ValueError('r1 and r2 need to be the same shape')\n",
    "    \n",
    "    weights = allocator(r1, r2, **kwargs)\n",
    "    if not weights.shape == r1.shape:\n",
    "        raise ValueError('allocator returned weights that do not match r1')\n",
    "    \n",
    "    r_mix = weights*r1 + (1-weights)*r2\n",
    "    return r_mix"
   ]
  },
  {
   "cell_type": "code",
   "execution_count": 3,
   "metadata": {},
   "outputs": [],
   "source": [
    "def fixed_mix_allocator(r1, r2, w1, **kwargs):\n",
    "    \"\"\"\n",
    "    Produces a time series over T steps of allocations between the PSP and GHP across N scenarios\n",
    "    PSP and GHP are T x N DataFrames that represent the returns of the PSP and GHP such that:\n",
    "     each column is a scenario\n",
    "     each row is the price for a timestep\n",
    "    Returns an T x N DataFrame of PSP Weights\n",
    "    \"\"\"\n",
    "\n",
    "    return pd.DataFrame(data=w1, index=r1.index, columns=r1.columns)"
   ]
  },
  {
   "cell_type": "code",
   "execution_count": 5,
   "metadata": {},
   "outputs": [
    {
     "data": {
      "text/html": [
       "<div>\n",
       "<style scoped>\n",
       "    .dataframe tbody tr th:only-of-type {\n",
       "        vertical-align: middle;\n",
       "    }\n",
       "\n",
       "    .dataframe tbody tr th {\n",
       "        vertical-align: top;\n",
       "    }\n",
       "\n",
       "    .dataframe thead th {\n",
       "        text-align: right;\n",
       "    }\n",
       "</style>\n",
       "<table border=\"1\" class=\"dataframe\">\n",
       "  <thead>\n",
       "    <tr style=\"text-align: right;\">\n",
       "      <th></th>\n",
       "      <th>Annualized Return</th>\n",
       "      <th>Annualized Vol</th>\n",
       "      <th>Skewness</th>\n",
       "      <th>Kurtosis</th>\n",
       "      <th>Cornish-Fisher VaR (5%)</th>\n",
       "      <th>Historic CVaR (5%)</th>\n",
       "      <th>Sharpe Ratio</th>\n",
       "      <th>Max Drawdown</th>\n",
       "    </tr>\n",
       "  </thead>\n",
       "  <tbody>\n",
       "    <tr>\n",
       "      <th>0</th>\n",
       "      <td>0.035316</td>\n",
       "      <td>0.004204</td>\n",
       "      <td>-0.192699</td>\n",
       "      <td>2.943935</td>\n",
       "      <td>-0.000843</td>\n",
       "      <td>-0.000165</td>\n",
       "      <td>1.230748</td>\n",
       "      <td>-0.000416</td>\n",
       "    </tr>\n",
       "  </tbody>\n",
       "</table>\n",
       "</div>"
      ],
      "text/plain": [
       "   Annualized Return  Annualized Vol  Skewness  Kurtosis  \\\n",
       "0           0.035316        0.004204 -0.192699  2.943935   \n",
       "\n",
       "   Cornish-Fisher VaR (5%)  Historic CVaR (5%)  Sharpe Ratio  Max Drawdown  \n",
       "0                -0.000843           -0.000165      1.230748     -0.000416  "
      ]
     },
     "execution_count": 5,
     "metadata": {},
     "output_type": "execute_result"
    }
   ],
   "source": [
    "rates, zc_prices = erk.cir(10, 500, b=0.03, r_0=0.03)\n",
    "price_10 = erk.bond_price(10, 100, .05, 12, rates)\n",
    "price_30 = erk.bond_price(30, 100, .05, 12, rates)\n",
    "rets_30 = erk.bond_total_return(price_30, 100, 0.05, 12)\n",
    "rets_10 = erk.bond_total_return(price_10, 100, 0.05, 12)\n",
    "rets_bonds = erk.bt_mix(rets_10, rets_30, allocator=erk.fixedmix_allocator, w1=.6)\n",
    "mean_rets_bonds = rets_bonds.mean(axis='columns')\n",
    "erk.summary_stats(pd.DataFrame(mean_rets_bonds))"
   ]
  },
  {
   "cell_type": "code",
   "execution_count": 7,
   "metadata": {},
   "outputs": [],
   "source": [
    "price_eq = erk.gbm(n_years=10, n_scenarios=500, mu=0.07, sigma=0.15)\n",
    "rets_eq = price_eq.pct_change().dropna()\n",
    "rets_zc = zc_prices.pct_change().dropna()  # can only do it with a zero coupon bond"
   ]
  },
  {
   "cell_type": "code",
   "execution_count": 9,
   "metadata": {},
   "outputs": [
    {
     "data": {
      "text/html": [
       "<div>\n",
       "<style scoped>\n",
       "    .dataframe tbody tr th:only-of-type {\n",
       "        vertical-align: middle;\n",
       "    }\n",
       "\n",
       "    .dataframe tbody tr th {\n",
       "        vertical-align: top;\n",
       "    }\n",
       "\n",
       "    .dataframe thead th {\n",
       "        text-align: right;\n",
       "    }\n",
       "</style>\n",
       "<table border=\"1\" class=\"dataframe\">\n",
       "  <thead>\n",
       "    <tr style=\"text-align: right;\">\n",
       "      <th></th>\n",
       "      <th>Annualized Return</th>\n",
       "      <th>Annualized Vol</th>\n",
       "      <th>Skewness</th>\n",
       "      <th>Kurtosis</th>\n",
       "      <th>Cornish-Fisher VaR (5%)</th>\n",
       "      <th>Historic CVaR (5%)</th>\n",
       "      <th>Sharpe Ratio</th>\n",
       "      <th>Max Drawdown</th>\n",
       "    </tr>\n",
       "  </thead>\n",
       "  <tbody>\n",
       "    <tr>\n",
       "      <th>0</th>\n",
       "      <td>0.059972</td>\n",
       "      <td>0.004681</td>\n",
       "      <td>0.066814</td>\n",
       "      <td>2.477327</td>\n",
       "      <td>-0.002664</td>\n",
       "      <td>-0.002279</td>\n",
       "      <td>6.231596</td>\n",
       "      <td>0.0</td>\n",
       "    </tr>\n",
       "  </tbody>\n",
       "</table>\n",
       "</div>"
      ],
      "text/plain": [
       "   Annualized Return  Annualized Vol  Skewness  Kurtosis  \\\n",
       "0           0.059972        0.004681  0.066814  2.477327   \n",
       "\n",
       "   Cornish-Fisher VaR (5%)  Historic CVaR (5%)  Sharpe Ratio  Max Drawdown  \n",
       "0                -0.002664           -0.002279      6.231596           0.0  "
      ]
     },
     "execution_count": 9,
     "metadata": {},
     "output_type": "execute_result"
    }
   ],
   "source": [
    "rets_7030b = erk.bt_mix(rets_eq, rets_bonds, allocator=erk.fixedmix_allocator, w1=0.7)  # 70% in the PSP \n",
    "rets_7030b_mean = rets_7030b.mean(axis='columns')\n",
    "erk.summary_stats(pd.DataFrame(rets_7030b_mean))"
   ]
  },
  {
   "cell_type": "code",
   "execution_count": 10,
   "metadata": {},
   "outputs": [],
   "source": [
    "# instead of averaging and then getting summary stats, compute summary stats on each of the scenarios \n",
    "summaries = erk.summary_stats(rets_7030b)"
   ]
  },
  {
   "cell_type": "code",
   "execution_count": 11,
   "metadata": {},
   "outputs": [
    {
     "data": {
      "text/html": [
       "<div>\n",
       "<style scoped>\n",
       "    .dataframe tbody tr th:only-of-type {\n",
       "        vertical-align: middle;\n",
       "    }\n",
       "\n",
       "    .dataframe tbody tr th {\n",
       "        vertical-align: top;\n",
       "    }\n",
       "\n",
       "    .dataframe thead th {\n",
       "        text-align: right;\n",
       "    }\n",
       "</style>\n",
       "<table border=\"1\" class=\"dataframe\">\n",
       "  <thead>\n",
       "    <tr style=\"text-align: right;\">\n",
       "      <th></th>\n",
       "      <th>Annualized Return</th>\n",
       "      <th>Annualized Vol</th>\n",
       "      <th>Skewness</th>\n",
       "      <th>Kurtosis</th>\n",
       "      <th>Cornish-Fisher VaR (5%)</th>\n",
       "      <th>Historic CVaR (5%)</th>\n",
       "      <th>Sharpe Ratio</th>\n",
       "      <th>Max Drawdown</th>\n",
       "    </tr>\n",
       "  </thead>\n",
       "  <tbody>\n",
       "    <tr>\n",
       "      <th>0</th>\n",
       "      <td>0.020445</td>\n",
       "      <td>0.110194</td>\n",
       "      <td>0.338083</td>\n",
       "      <td>3.449481</td>\n",
       "      <td>0.046519</td>\n",
       "      <td>0.059028</td>\n",
       "      <td>-0.084527</td>\n",
       "      <td>-0.193242</td>\n",
       "    </tr>\n",
       "    <tr>\n",
       "      <th>1</th>\n",
       "      <td>0.033421</td>\n",
       "      <td>0.107273</td>\n",
       "      <td>0.190187</td>\n",
       "      <td>2.960579</td>\n",
       "      <td>0.045844</td>\n",
       "      <td>0.056374</td>\n",
       "      <td>0.030908</td>\n",
       "      <td>-0.162932</td>\n",
       "    </tr>\n",
       "    <tr>\n",
       "      <th>2</th>\n",
       "      <td>0.025451</td>\n",
       "      <td>0.098577</td>\n",
       "      <td>-0.160172</td>\n",
       "      <td>2.735504</td>\n",
       "      <td>0.045541</td>\n",
       "      <td>0.057826</td>\n",
       "      <td>-0.045038</td>\n",
       "      <td>-0.191531</td>\n",
       "    </tr>\n",
       "    <tr>\n",
       "      <th>3</th>\n",
       "      <td>0.071658</td>\n",
       "      <td>0.103609</td>\n",
       "      <td>0.352413</td>\n",
       "      <td>2.642497</td>\n",
       "      <td>0.039931</td>\n",
       "      <td>0.043462</td>\n",
       "      <td>0.391214</td>\n",
       "      <td>-0.113769</td>\n",
       "    </tr>\n",
       "    <tr>\n",
       "      <th>4</th>\n",
       "      <td>0.018216</td>\n",
       "      <td>0.105466</td>\n",
       "      <td>-0.210831</td>\n",
       "      <td>2.844431</td>\n",
       "      <td>0.049789</td>\n",
       "      <td>0.064904</td>\n",
       "      <td>-0.108874</td>\n",
       "      <td>-0.292536</td>\n",
       "    </tr>\n",
       "  </tbody>\n",
       "</table>\n",
       "</div>"
      ],
      "text/plain": [
       "   Annualized Return  Annualized Vol  Skewness  Kurtosis  \\\n",
       "0           0.020445        0.110194  0.338083  3.449481   \n",
       "1           0.033421        0.107273  0.190187  2.960579   \n",
       "2           0.025451        0.098577 -0.160172  2.735504   \n",
       "3           0.071658        0.103609  0.352413  2.642497   \n",
       "4           0.018216        0.105466 -0.210831  2.844431   \n",
       "\n",
       "   Cornish-Fisher VaR (5%)  Historic CVaR (5%)  Sharpe Ratio  Max Drawdown  \n",
       "0                 0.046519            0.059028     -0.084527     -0.193242  \n",
       "1                 0.045844            0.056374      0.030908     -0.162932  \n",
       "2                 0.045541            0.057826     -0.045038     -0.191531  \n",
       "3                 0.039931            0.043462      0.391214     -0.113769  \n",
       "4                 0.049789            0.064904     -0.108874     -0.292536  "
      ]
     },
     "execution_count": 11,
     "metadata": {},
     "output_type": "execute_result"
    }
   ],
   "source": [
    "summaries.head()"
   ]
  },
  {
   "cell_type": "code",
   "execution_count": 12,
   "metadata": {},
   "outputs": [
    {
     "data": {
      "text/plain": [
       "Annualized Return          0.054573\n",
       "Annualized Vol             0.107155\n",
       "Skewness                   0.013368\n",
       "Kurtosis                   2.940232\n",
       "Cornish-Fisher VaR (5%)    0.045695\n",
       "Historic CVaR (5%)         0.057576\n",
       "Sharpe Ratio               0.224631\n",
       "Max Drawdown              -0.205799\n",
       "dtype: float64"
      ]
     },
     "execution_count": 12,
     "metadata": {},
     "output_type": "execute_result"
    }
   ],
   "source": [
    "# now get the mean of all the scenarios\n",
    "summaries.mean()"
   ]
  },
  {
   "cell_type": "code",
   "execution_count": 13,
   "metadata": {},
   "outputs": [],
   "source": [
    "def terminal_values(rets):\n",
    "    \"\"\"\n",
    "    Returns the final values of a dollar at the end of the return period for each scenario\n",
    "    \"\"\"\n",
    "    return (rets+1).prod()"
   ]
  },
  {
   "cell_type": "code",
   "execution_count": 14,
   "metadata": {},
   "outputs": [
    {
     "data": {
      "text/html": [
       "<div>\n",
       "<style scoped>\n",
       "    .dataframe tbody tr th:only-of-type {\n",
       "        vertical-align: middle;\n",
       "    }\n",
       "\n",
       "    .dataframe tbody tr th {\n",
       "        vertical-align: top;\n",
       "    }\n",
       "\n",
       "    .dataframe thead th {\n",
       "        text-align: right;\n",
       "    }\n",
       "</style>\n",
       "<table border=\"1\" class=\"dataframe\">\n",
       "  <thead>\n",
       "    <tr style=\"text-align: right;\">\n",
       "      <th></th>\n",
       "      <th>FI</th>\n",
       "      <th>Eq</th>\n",
       "      <th>70/30</th>\n",
       "    </tr>\n",
       "  </thead>\n",
       "  <tbody>\n",
       "    <tr>\n",
       "      <th>mean</th>\n",
       "      <td>1.376951</td>\n",
       "      <td>1.994075</td>\n",
       "      <td>1.793297</td>\n",
       "    </tr>\n",
       "    <tr>\n",
       "      <th>std</th>\n",
       "      <td>0.117181</td>\n",
       "      <td>0.962339</td>\n",
       "      <td>0.610574</td>\n",
       "    </tr>\n",
       "    <tr>\n",
       "      <th>p_breach</th>\n",
       "      <td>NaN</td>\n",
       "      <td>0.072000</td>\n",
       "      <td>0.022000</td>\n",
       "    </tr>\n",
       "    <tr>\n",
       "      <th>e_short</th>\n",
       "      <td>NaN</td>\n",
       "      <td>0.131659</td>\n",
       "      <td>0.068580</td>\n",
       "    </tr>\n",
       "    <tr>\n",
       "      <th>p_reach</th>\n",
       "      <td>NaN</td>\n",
       "      <td>NaN</td>\n",
       "      <td>NaN</td>\n",
       "    </tr>\n",
       "    <tr>\n",
       "      <th>e_surplus</th>\n",
       "      <td>NaN</td>\n",
       "      <td>NaN</td>\n",
       "      <td>NaN</td>\n",
       "    </tr>\n",
       "  </tbody>\n",
       "</table>\n",
       "</div>"
      ],
      "text/plain": [
       "                 FI        Eq     70/30\n",
       "mean       1.376951  1.994075  1.793297\n",
       "std        0.117181  0.962339  0.610574\n",
       "p_breach        NaN  0.072000  0.022000\n",
       "e_short         NaN  0.131659  0.068580\n",
       "p_reach         NaN       NaN       NaN\n",
       "e_surplus       NaN       NaN       NaN"
      ]
     },
     "execution_count": 14,
     "metadata": {},
     "output_type": "execute_result"
    }
   ],
   "source": [
    "pd.concat([\n",
    "    erk.terminal_stats(rets_bonds, name='FI'),\n",
    "    erk.terminal_stats(rets_eq, name='Eq'),\n",
    "    erk.terminal_stats(rets_7030b, name='70/30')\n",
    "], axis=1)\n",
    "\n",
    "# What can we do to make sure we hit that liability (eliminate e_short in 70/30 split)"
   ]
  },
  {
   "cell_type": "code",
   "execution_count": 15,
   "metadata": {},
   "outputs": [
    {
     "name": "stderr",
     "output_type": "stream",
     "text": [
      "/usr/local/lib/python3.10/dist-packages/seaborn/distributions.py:2619: FutureWarning: `distplot` is a deprecated function and will be removed in a future version. Please adapt your code to use either `displot` (a figure-level function with similar flexibility) or `histplot` (an axes-level function for histograms).\n",
      "  warnings.warn(msg, FutureWarning)\n",
      "/usr/local/lib/python3.10/dist-packages/seaborn/distributions.py:2619: FutureWarning: `distplot` is a deprecated function and will be removed in a future version. Please adapt your code to use either `displot` (a figure-level function with similar flexibility) or `histplot` (an axes-level function for histograms).\n",
      "  warnings.warn(msg, FutureWarning)\n",
      "/usr/local/lib/python3.10/dist-packages/seaborn/distributions.py:2619: FutureWarning: `distplot` is a deprecated function and will be removed in a future version. Please adapt your code to use either `displot` (a figure-level function with similar flexibility) or `histplot` (an axes-level function for histograms).\n",
      "  warnings.warn(msg, FutureWarning)\n"
     ]
    },
    {
     "data": {
      "image/png": "[encoded data removed]",
      "text/plain": [
       "<Figure size 1200x600 with 1 Axes>"
      ]
     },
     "metadata": {},
     "output_type": "display_data"
    }
   ],
   "source": [
    "import seaborn as sns\n",
    "import matplotlib.pyplot as plt\n",
    "plt.figure(figsize=(12, 6))\n",
    "sns.distplot(erk.terminal_values(rets_eq), color=\"red\", label=\"100% Equities\")\n",
    "sns.distplot(erk.terminal_values(rets_bonds), color=\"blue\", label=\"100% Bonds\")\n",
    "sns.distplot(erk.terminal_values(rets_7030b), color=\"orange\", label=\"70/30 Equities/Bonds\")\n",
    "plt.legend();"
   ]
  },
  {
   "cell_type": "markdown",
   "metadata": {},
   "source": [
    "# Glide Paths for Allocation"
   ]
  },
  {
   "cell_type": "code",
   "execution_count": 16,
   "metadata": {},
   "outputs": [],
   "source": [
    "def glidepath_allocator(r1, r2, start_glide=1, end_glide=0):\n",
    "    \"\"\"\n",
    "    Simulates a target-date-fund style gradual move from r1 to r2\n",
    "    \"\"\"\n",
    "    n_points = r1.shape[0]  # number of rows \n",
    "    n_col = r1.shape[1]\n",
    "    path = pd.Series(data=np.linspace(start_glide, end_glide, num=n_points))\n",
    "    paths = pd.concat([path]*n_col, axis='columns')\n",
    "    paths.index = r1.index\n",
    "    paths.columns = r1.columns\n",
    "    return paths"
   ]
  },
  {
   "cell_type": "code",
   "execution_count": 18,
   "metadata": {},
   "outputs": [
    {
     "data": {
      "text/html": [
       "<div>\n",
       "<style scoped>\n",
       "    .dataframe tbody tr th:only-of-type {\n",
       "        vertical-align: middle;\n",
       "    }\n",
       "\n",
       "    .dataframe tbody tr th {\n",
       "        vertical-align: top;\n",
       "    }\n",
       "\n",
       "    .dataframe thead th {\n",
       "        text-align: right;\n",
       "    }\n",
       "</style>\n",
       "<table border=\"1\" class=\"dataframe\">\n",
       "  <thead>\n",
       "    <tr style=\"text-align: right;\">\n",
       "      <th></th>\n",
       "      <th>FI</th>\n",
       "      <th>Eq</th>\n",
       "      <th>70/30</th>\n",
       "      <th>Glide 80 to 20</th>\n",
       "    </tr>\n",
       "  </thead>\n",
       "  <tbody>\n",
       "    <tr>\n",
       "      <th>mean</th>\n",
       "      <td>1.376951</td>\n",
       "      <td>1.994075</td>\n",
       "      <td>1.793297</td>\n",
       "      <td>1.673879</td>\n",
       "    </tr>\n",
       "    <tr>\n",
       "      <th>std</th>\n",
       "      <td>0.117181</td>\n",
       "      <td>0.962339</td>\n",
       "      <td>0.610574</td>\n",
       "      <td>0.453714</td>\n",
       "    </tr>\n",
       "    <tr>\n",
       "      <th>p_breach</th>\n",
       "      <td>NaN</td>\n",
       "      <td>0.072000</td>\n",
       "      <td>0.022000</td>\n",
       "      <td>0.004000</td>\n",
       "    </tr>\n",
       "    <tr>\n",
       "      <th>e_short</th>\n",
       "      <td>NaN</td>\n",
       "      <td>0.131659</td>\n",
       "      <td>0.068580</td>\n",
       "      <td>0.054139</td>\n",
       "    </tr>\n",
       "    <tr>\n",
       "      <th>p_reach</th>\n",
       "      <td>NaN</td>\n",
       "      <td>NaN</td>\n",
       "      <td>NaN</td>\n",
       "      <td>NaN</td>\n",
       "    </tr>\n",
       "    <tr>\n",
       "      <th>e_surplus</th>\n",
       "      <td>NaN</td>\n",
       "      <td>NaN</td>\n",
       "      <td>NaN</td>\n",
       "      <td>NaN</td>\n",
       "    </tr>\n",
       "  </tbody>\n",
       "</table>\n",
       "</div>"
      ],
      "text/plain": [
       "                 FI        Eq     70/30  Glide 80 to 20\n",
       "mean       1.376951  1.994075  1.793297        1.673879\n",
       "std        0.117181  0.962339  0.610574        0.453714\n",
       "p_breach        NaN  0.072000  0.022000        0.004000\n",
       "e_short         NaN  0.131659  0.068580        0.054139\n",
       "p_reach         NaN       NaN       NaN             NaN\n",
       "e_surplus       NaN       NaN       NaN             NaN"
      ]
     },
     "execution_count": 18,
     "metadata": {},
     "output_type": "execute_result"
    }
   ],
   "source": [
    "rets_g8020 = erk.bt_mix(rets_eq, rets_bonds, allocator=erk.glidepath_allocator, start_glide=.8, end_glide=.2)\n",
    "pd.concat([\n",
    "    erk.terminal_stats(rets_bonds, name='FI'),\n",
    "    erk.terminal_stats(rets_eq, name='Eq'),\n",
    "    erk.terminal_stats(rets_7030b, name='70/30'),\n",
    "    erk.terminal_stats(rets_g8020, name='Glide 80 to 20')  # still get breaches in e_short\n",
    "], axis=1)"
   ]
  },
  {
   "cell_type": "code",
   "execution_count": null,
   "metadata": {},
   "outputs": [],
   "source": []
  }
 ],
 "metadata": {
  "kernelspec": {
   "display_name": "Python 3",
   "language": "python",
   "name": "python3"
  },
  "language_info": {
   "codemirror_mode": {
    "name": "ipython",
    "version": 3
   },
   "file_extension": ".py",
   "mimetype": "text/x-python",
   "name": "python",
   "nbconvert_exporter": "python",
   "pygments_lexer": "ipython3",
   "version": "3.10.12"
  }
 },
 "nbformat": 4,
 "nbformat_minor": 2
}
