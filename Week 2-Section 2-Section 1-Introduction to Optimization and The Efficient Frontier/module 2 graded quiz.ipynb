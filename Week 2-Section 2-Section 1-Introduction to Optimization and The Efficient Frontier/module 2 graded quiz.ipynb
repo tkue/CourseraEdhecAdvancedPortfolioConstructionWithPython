{
 "cells": [
  {
   "cell_type": "code",
   "execution_count": 181,
   "metadata": {},
   "outputs": [
    {
     "name": "stdout",
     "output_type": "stream",
     "text": [
      "The autoreload extension is already loaded. To reload it, use:\n",
      "  %reload_ext autoreload\n"
     ]
    }
   ],
   "source": [
    "%load_ext autoreload\n",
    "%autoreload 2 \n",
    "from sys import path \n",
    "path.append('../')\n",
    "\n",
    "import numpy as np \n",
    "import pandas as pd \n",
    "import edhec_risk_kit as erk"
   ]
  },
  {
   "cell_type": "code",
   "execution_count": 182,
   "metadata": {},
   "outputs": [
    {
     "name": "stderr",
     "output_type": "stream",
     "text": [
      "/home/tom/Dropbox/projects/coursera_edhec_AdvancedPortfolioConstructionAndAnalysisWithPython/Week 2-Section 2-Section 1-Introduction to Optimization and The Efficient Frontier/../edhec_risk_kit.py:22: UserWarning: Parsing dates in DD/MM/YYYY format when dayfirst=False (the default) was specified. This may lead to inconsistently parsed dates! Specify a format to ensure consistent parsing.\n",
      "  hfi = pd.read_csv(\"../data/edhec-hedgefundindices.csv\",\n"
     ]
    }
   ],
   "source": [
    "ind = erk.get_hfi_returns()\n",
    "ind = ind['2000':]\n",
    "er = erk.annualize_rets(ind['2000':], 12)\n",
    "cov = ind['2000':].cov()"
   ]
  },
  {
   "cell_type": "code",
   "execution_count": 183,
   "metadata": {},
   "outputs": [
    {
     "data": {
      "text/plain": [
       "Convertible Arbitrage      3.484471\n",
       "CTA Global                 5.033613\n",
       "Distressed Securities      3.143018\n",
       "Emerging Markets           5.807041\n",
       "Equity Market Neutral      1.477190\n",
       "Event Driven               3.085309\n",
       "Fixed Income Arbitrage     1.951918\n",
       "Global Macro               2.461907\n",
       "Long/Short Equity          3.942044\n",
       "Merger Arbitrage           1.535518\n",
       "Relative Value             2.160459\n",
       "Short Selling             10.213030\n",
       "Funds Of Funds             2.938540\n",
       "dtype: float64"
      ]
     },
     "execution_count": 183,
     "metadata": {},
     "output_type": "execute_result"
    }
   ],
   "source": [
    "erk.var_gaussian(ind, level=1) * 100"
   ]
  },
  {
   "cell_type": "code",
   "execution_count": 184,
   "metadata": {},
   "outputs": [
    {
     "data": {
      "text/plain": [
       "Convertible Arbitrage     10.366556\n",
       "CTA Global                 4.664321\n",
       "Distressed Securities      4.966909\n",
       "Emerging Markets           8.679551\n",
       "Equity Market Neutral      4.143206\n",
       "Event Driven               4.573181\n",
       "Fixed Income Arbitrage     6.647930\n",
       "Global Macro               2.278564\n",
       "Long/Short Equity          5.138116\n",
       "Merger Arbitrage           2.128243\n",
       "Relative Value             4.898484\n",
       "Short Selling              9.832259\n",
       "Funds Of Funds             4.879303\n",
       "dtype: float64"
      ]
     },
     "execution_count": 184,
     "metadata": {},
     "output_type": "execute_result"
    }
   ],
   "source": [
    "erk.var_gaussian(ind, level=1, modified=True) * 100"
   ]
  },
  {
   "cell_type": "code",
   "execution_count": 185,
   "metadata": {},
   "outputs": [
    {
     "data": {
      "text/plain": [
       "Convertible Arbitrage      3.1674\n",
       "CTA Global                 5.0938\n",
       "Distressed Securities      4.2642\n",
       "Emerging Markets           6.5496\n",
       "Equity Market Neutral      1.9800\n",
       "Event Driven               3.8540\n",
       "Fixed Income Arbitrage     3.0748\n",
       "Global Macro               2.2632\n",
       "Long/Short Equity          4.5060\n",
       "Merger Arbitrage           2.2654\n",
       "Relative Value             2.1788\n",
       "Short Selling             10.7684\n",
       "Funds Of Funds             2.7200\n",
       "dtype: float64"
      ]
     },
     "execution_count": 185,
     "metadata": {},
     "output_type": "execute_result"
    }
   ],
   "source": [
    "erk.var_historic(ind, level=1) * 100"
   ]
  },
  {
   "cell_type": "code",
   "execution_count": 186,
   "metadata": {},
   "outputs": [],
   "source": [
    "ind = erk.get_ind_returns()\n",
    "er = erk.annualize_rets(ind['2013':'2017'], 12)\n",
    "cov = ind['2013':'2017'].cov()"
   ]
  },
  {
   "cell_type": "code",
   "execution_count": 187,
   "metadata": {},
   "outputs": [],
   "source": [
    "l = ['Books', 'Steel', 'Oil', 'Mines']\n",
    "rf_rate = 0.1"
   ]
  },
  {
   "cell_type": "code",
   "execution_count": 188,
   "metadata": {},
   "outputs": [
    {
     "data": {
      "text/plain": [
       "array([25., 25., 25., 25.])"
      ]
     },
     "execution_count": 188,
     "metadata": {},
     "output_type": "execute_result"
    }
   ],
   "source": [
    "# equal return \n",
    "n = er[l].shape[0]\n",
    "w_ew = np.repeat(1/n, n)\n",
    "w_ew * 100"
   ]
  },
  {
   "cell_type": "code",
   "execution_count": 189,
   "metadata": {},
   "outputs": [
    {
     "data": {
      "text/plain": [
       "array([0.00000000e+00, 1.00000000e+02, 6.00214323e-14, 7.35522754e-14])"
      ]
     },
     "execution_count": 189,
     "metadata": {},
     "output_type": "execute_result"
    }
   ],
   "source": [
    "# max sharpe ratio \n",
    "w_msr = erk.msr(riskfree_rate=rf_rate, er=er[l], cov=cov.loc[l,l])\n",
    "w_msr * 100"
   ]
  },
  {
   "cell_type": "code",
   "execution_count": 190,
   "metadata": {},
   "outputs": [
    {
     "data": {
      "text/plain": [
       "array([4.77024865e+01, 4.33680869e-17, 4.34112030e+01, 8.88631048e+00])"
      ]
     },
     "execution_count": 190,
     "metadata": {},
     "output_type": "execute_result"
    }
   ],
   "source": [
    "w_gmv = erk.gmv(cov=cov.loc[l,l])\n",
    "w_gmv * 100\n"
   ]
  },
  {
   "cell_type": "code",
   "execution_count": 191,
   "metadata": {},
   "outputs": [
    {
     "name": "stderr",
     "output_type": "stream",
     "text": [
      "/tmp/ipykernel_13879/598143374.py:1: FutureWarning: Indexing a DataFrame with a datetimelike index using a single string to slice the rows, like `frame[string]`, is deprecated and will be removed in a future version. Use `frame.loc[string]` instead.\n",
      "  erk.portfolio_vol(w_msr, ind['2018'][l].cov()) * (12**0.5) * 100\n"
     ]
    },
    {
     "data": {
      "text/plain": [
       "21.9839881814842"
      ]
     },
     "execution_count": 191,
     "metadata": {},
     "output_type": "execute_result"
    }
   ],
   "source": [
    "erk.portfolio_vol(w_msr, ind['2018'][l].cov()) * (12**0.5) * 100"
   ]
  },
  {
   "cell_type": "code",
   "execution_count": 192,
   "metadata": {},
   "outputs": [
    {
     "name": "stderr",
     "output_type": "stream",
     "text": [
      "/tmp/ipykernel_13879/4194746369.py:1: FutureWarning: Indexing a DataFrame with a datetimelike index using a single string to slice the rows, like `frame[string]`, is deprecated and will be removed in a future version. Use `frame.loc[string]` instead.\n",
      "  erk.portfolio_vol(w_gmv, ind['2018'][l].cov()) * (12**0.5) * 100\n"
     ]
    },
    {
     "data": {
      "text/plain": [
       "18.973734554913555"
      ]
     },
     "execution_count": 192,
     "metadata": {},
     "output_type": "execute_result"
    }
   ],
   "source": [
    "erk.portfolio_vol(w_gmv, ind['2018'][l].cov()) * (12**0.5) * 100"
   ]
  },
  {
   "cell_type": "code",
   "execution_count": null,
   "metadata": {},
   "outputs": [],
   "source": []
  }
 ],
 "metadata": {
  "kernelspec": {
   "display_name": "Python 3",
   "language": "python",
   "name": "python3"
  },
  "language_info": {
   "codemirror_mode": {
    "name": "ipython",
    "version": 3
   },
   "file_extension": ".py",
   "mimetype": "text/x-python",
   "name": "python",
   "nbconvert_exporter": "python",
   "pygments_lexer": "ipython3",
   "version": "3.10.12"
  },
  "orig_nbformat": 4
 },
 "nbformat": 4,
 "nbformat_minor": 2
}
