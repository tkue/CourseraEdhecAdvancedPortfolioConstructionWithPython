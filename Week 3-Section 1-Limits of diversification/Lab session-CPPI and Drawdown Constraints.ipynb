{
 "cells": [
  {
   "cell_type": "markdown",
   "metadata": {},
   "source": [
    "# CPPI (Constant Proportion Portfolio Insurance)\n",
    "\n",
    "It is a procedure that allows you to generate convex option-like payoffs without using option.\n",
    "![CPPI Simple Example](image.png)\n",
    "\n",
    "## Gap Protection \n",
    "example\n",
    "> you trade quarterly, but the price drops below the floor (where you should be re-allocating)\n",
    "> less than 1/M (e.g. if multiplier M is `5`, `1/5=20%`)\n",
    "![Downside Protection Explanation](image-1.png)\n",
    "\n",
    "## Introducing Max DD Constraints \n",
    "Vt: the value of the portfolio at time `t`\n",
    "Mt: the maximum value of the portfolio between 0 and time `t`\n",
    "1-a: the maximum acceptable drawdown \n",
    "\n",
    "![Example of how the floor works](image-2.png)\n",
    "It plateaus because it is keeping track of X% of the `max` value \n",
    "It increases or stays flat, never decreases \n",
    "\n",
    "### With a Performance Cap \n",
    "![CPPI with Performance Cap](image-3.png)\n",
    "When floor <= assetValue <= thresholdLevel == m(At - Ft)\n",
    "> multiplier * (assetValue - floor)\n",
    "When thresholdLevel <= assetValue <= cap == m(Ct - At)\n",
    "\n",
    "> multiplier * (cap - assetValue)\n",
    "\n",
    "#### How to calculate threshold value \n",
    "![How to calculate threshold value](image-4.png)\n",
    "\n",
    "![Example calculation](image-5.png)"
   ]
  },
  {
   "cell_type": "markdown",
   "metadata": {},
   "source": []
  }
 ],
 "metadata": {
  "language_info": {
   "name": "python"
  },
  "orig_nbformat": 4
 },
 "nbformat": 4,
 "nbformat_minor": 2
}
